{
 "cells": [
  {
   "cell_type": "markdown",
   "id": "1afae793-2613-420a-b33d-4952af96e9a1",
   "metadata": {},
   "source": [
    "Code adapted from https://www.youtube.com/watch?v=ZLIPkmmDJAc&t=2073s. \n",
    "I had to covert all of the common voice files since they are the only data service that saves in MP3. After that I picked a bunch of random files from common voice and mixed them in with fold1 of urban sound.\n",
    "\n",
    "Origninally I only mixed in verfied files from common voice but it appears in this late night iteration I accidently mixed in unverified samples which is probably what led to some issues in EDA"
   ]
  },
  {
   "cell_type": "code",
   "execution_count": 5,
   "id": "b7705f16-74ff-436b-a14c-f7847b59c3c6",
   "metadata": {},
   "outputs": [
    {
     "name": "stdout",
     "output_type": "stream",
     "text": [
      "Collecting tensorflow-io\n",
      "  Downloading tensorflow_io-0.30.0-cp39-cp39-macosx_10_14_x86_64.whl (24.6 MB)\n",
      "\u001b[2K     \u001b[90m━━━━━━━━━━━━━━━━━━━━━━━━━━━━━━━━━━━━━━━━\u001b[0m \u001b[32m24.6/24.6 MB\u001b[0m \u001b[31m9.0 MB/s\u001b[0m eta \u001b[36m0:00:00\u001b[0m:00:01\u001b[0m0:01\u001b[0mm\n",
      "\u001b[?25hCollecting tensorflow-io-gcs-filesystem==0.30.0\n",
      "  Downloading tensorflow_io_gcs_filesystem-0.30.0-cp39-cp39-macosx_10_14_x86_64.whl (1.6 MB)\n",
      "\u001b[2K     \u001b[90m━━━━━━━━━━━━━━━━━━━━━━━━━━━━━━━━━━━━━━━━\u001b[0m \u001b[32m1.6/1.6 MB\u001b[0m \u001b[31m37.2 MB/s\u001b[0m eta \u001b[36m0:00:00\u001b[0m00:01\u001b[0m\n",
      "\u001b[?25hInstalling collected packages: tensorflow-io-gcs-filesystem, tensorflow-io\n",
      "  Attempting uninstall: tensorflow-io-gcs-filesystem\n",
      "    Found existing installation: tensorflow-io-gcs-filesystem 0.27.0\n",
      "    Uninstalling tensorflow-io-gcs-filesystem-0.27.0:\n",
      "      Successfully uninstalled tensorflow-io-gcs-filesystem-0.27.0\n",
      "Successfully installed tensorflow-io-0.30.0 tensorflow-io-gcs-filesystem-0.30.0\n"
     ]
    }
   ],
   "source": [
    "! pip install tensorflow-io"
   ]
  },
  {
   "cell_type": "code",
   "execution_count": null,
   "id": "15c99ee5-a351-4caa-bb45-2133467e9753",
   "metadata": {},
   "outputs": [],
   "source": [
    "import os\n",
    "from matplotlib import pyplot as plt\n",
    "import tensorflow as tf \n",
    "#import tensorflow_io as tfio #I could not get tfio running on Juypter"
   ]
  },
  {
   "cell_type": "code",
   "execution_count": 2,
   "id": "fb5a33b3-aa17-41fb-9ca5-f28b2e1a9660",
   "metadata": {},
   "outputs": [],
   "source": [
    "import os\n",
    "import pathlib\n",
    "\n",
    "import matplotlib.pyplot as plt\n",
    "import numpy as np\n",
    "import seaborn as sns\n",
    "import tensorflow as tf\n",
    "\n",
    "from tensorflow.keras import layers\n",
    "from tensorflow.keras import models\n",
    "from IPython import display\n",
    "\n",
    "# Set the seed value for experiment reproducibility.\n",
    "seed = 42\n",
    "tf.random.set_seed(seed)\n",
    "np.random.seed(seed)\n",
    "from pydub import AudioSegment"
   ]
  },
  {
   "cell_type": "markdown",
   "id": "dee8c162-4f8f-4d0a-888f-c838fa44ae39",
   "metadata": {},
   "source": [
    "The funciton below converts mp3s to wav files. Most audio processing libries use Wav files and common voice files are mp3s"
   ]
  },
  {
   "cell_type": "code",
   "execution_count": 40,
   "id": "6ef8ca63-f29c-4de0-b9b3-ea37332b250f",
   "metadata": {},
   "outputs": [],
   "source": [
    "import os\n",
    "\n",
    "def convert_mp3_folder_to_wav(input_folder, output_folder):\n",
    "    # Create output folder if it doesn't exist\n",
    "    if not os.path.exists(output_folder):\n",
    "        os.makedirs(output_folder)\n",
    "\n",
    "    # Loop through all files in the input folder\n",
    "    for file_name in os.listdir(input_folder):\n",
    "        if file_name.endswith(\".mp3\"):\n",
    "            # Build paths for input and output files\n",
    "            input_path = os.path.join(input_folder, file_name)\n",
    "            output_path = os.path.join(output_folder, file_name[:-4] + \".wav\")\n",
    "\n",
    "            # Convert MP3 to WAV\n",
    "            convert_mp3_to_wav(input_path, output_path)"
   ]
  },
  {
   "cell_type": "code",
   "execution_count": 41,
   "id": "dcaa0145-fbe1-4568-8c06-bcbf54bb063d",
   "metadata": {},
   "outputs": [],
   "source": [
    "convert_mp3_folder_to_wav(\"/Users/sheilalong/Desktop/p_test/data/clips\", \"/Users/sheilalong/Desktop/p_test/data/clipwav\")\n"
   ]
  },
  {
   "cell_type": "markdown",
   "id": "7815e20e-c5a0-42c7-bc74-34c1b62da2a3",
   "metadata": {},
   "source": [
    "The following code loads in and normalizes wave files using the librosa library "
   ]
  },
  {
   "cell_type": "code",
   "execution_count": 52,
   "id": "9ebe1b8e-abd8-490a-bbc3-88b18b0b606c",
   "metadata": {},
   "outputs": [],
   "source": [
    "def load_wav_16k_mono_librosa(filename):\n",
    "    # Convert tensor to string\n",
    "    filename_str = filename.numpy().decode('utf-8')\n",
    "    \n",
    "    # Load audio file\n",
    "    y, sr = librosa.load(filename_str, sr=16000, mono=True)\n",
    "   # Normalize audio signal\n",
    "    y_norm = librosa.util.normalize(y)\n",
    "    return y_norm"
   ]
  },
  {
   "cell_type": "code",
   "execution_count": 62,
   "id": "3935151c-edd7-41ff-a6e7-95fb8c999cb8",
   "metadata": {},
   "outputs": [],
   "source": [
    "THRONGLER_CPU = os.path.join('/Users/sheilalong/Downloads/lemaster_tech.wav')\n",
    "THRONGLER_Phone = os.path.join('data', '21', '2023_02_21_16_43_36(1).wav')\n",
    "#NOT_THRONGLER_MP3 = os.path.join('data', 'clips', 'common_voice_en_34925857.mp3')"
   ]
  },
  {
   "cell_type": "code",
   "execution_count": 63,
   "id": "ca2174f6-fab5-428a-a5bc-ba394c902b62",
   "metadata": {},
   "outputs": [],
   "source": [
    "# Load audio files as mono 16kHz WAV format\n",
    "wave = load_wav_16k_mono_librosa(NOT_THRONGLER)  # loads a 16kHz mono WAV audio file called NOT_THRONGLER\n",
    "nwave = load_wav_16k_mono_librosa(THRONGLER)    # loads a 16kHz mono WAV audio file called THRONGLER"
   ]
  },
  {
   "cell_type": "markdown",
   "id": "d789e279-2c24-448f-a675-da60ec844bf4",
   "metadata": {},
   "source": [
    "### Normalizing an audio signal means scaling its amplitude values so that they are within a specified range. The purpose of normalization is to ensure that the signal's     amplitude is consistent and does not clip or distort when played or processed."
   ]
  },
  {
   "cell_type": "code",
   "execution_count": 64,
   "id": "9be82731-81a8-4ef0-aa1a-c2538f958429",
   "metadata": {},
   "outputs": [
    {
     "data": {
      "image/png": "[encoded data removed]",
      "text/plain": [
       "<Figure size 640x480 with 1 Axes>"
      ]
     },
     "metadata": {},
     "output_type": "display_data"
    }
   ],
   "source": [
    "# Plot the two waves with labels\n",
    "plt.plot(wave, label='Throngler')\n",
    "plt.plot(nwave, label='Not Throngler', alpha = 0.5)\n",
    "\n",
    "# Display the legend\n",
    "plt.legend()\n",
    "\n",
    "# Show the plot\n",
    "plt.show()"
   ]
  },
  {
   "cell_type": "markdown",
   "id": "6b69b87f-456f-468c-a173-4db7ecffbaf2",
   "metadata": {},
   "source": [
    "The following code mixes random clips from common voice in with fold1 of the urban sounds dataset "
   ]
  },
  {
   "cell_type": "code",
   "execution_count": 45,
   "id": "a8f11b47-cc1f-4244-9ea8-9ccda96b71f1",
   "metadata": {},
   "outputs": [],
   "source": [
    "import os\n",
    "import random\n",
    "import shutil\n",
    "\n",
    "def select_files_and_copy(input_folder, output_folder):\n",
    "    # Create output folder if it doesn't exist\n",
    "    if not os.path.exists(output_folder):\n",
    "        os.makedirs(output_folder)\n",
    "\n",
    "    # Select 2000 random files from clipwav folder\n",
    "    clipwav_folder = os.path.join(input_folder, \"clipwav\")\n",
    "    clipwav_files = [f for f in os.listdir(clipwav_folder) if f.endswith(\".wav\")]\n",
    "    random_files = random.sample(clipwav_files, k=2000)\n",
    "\n",
    "    # Copy random files to output folder\n",
    "    for file_name in random_files:\n",
    "        source_path = os.path.join(clipwav_folder, file_name)\n",
    "        dest_path = os.path.join(output_folder, file_name)\n",
    "        shutil.copy(source_path, dest_path)\n",
    "\n",
    "    # Copy all files from fold1 folder to output folder\n",
    "    fold1_folder = os.path.join(input_folder, \"fold1\")\n",
    "    for file_name in os.listdir(fold1_folder):\n",
    "        source_path = os.path.join(fold1_folder, file_name)\n",
    "        dest_path = os.path.join(output_folder, file_name)\n",
    "        shutil.copy(source_path, dest_path)\n"
   ]
  },
  {
   "cell_type": "code",
   "execution_count": null,
   "id": "af96baae-d5e7-4a3b-9fd7-40a3585a1cf9",
   "metadata": {},
   "outputs": [],
   "source": [
    "select_files_and_copy(input_folder, output_folder)"
   ]
  },
  {
   "cell_type": "code",
   "execution_count": null,
   "id": "7bf6c63d-606a-4f37-9a4d-24956facb0b3",
   "metadata": {},
   "outputs": [],
   "source": []
  }
 ],
 "metadata": {
  "kernelspec": {
   "display_name": "Python 3 (ipykernel)",
   "language": "python",
   "name": "python3"
  },
  "language_info": {
   "codemirror_mode": {
    "name": "ipython",
    "version": 3
   },
   "file_extension": ".py",
   "mimetype": "text/x-python",
   "name": "python",
   "nbconvert_exporter": "python",
   "pygments_lexer": "ipython3",
   "version": "3.9.12"
  }
 },
 "nbformat": 4,
 "nbformat_minor": 5
}
