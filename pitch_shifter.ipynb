{
 "cells": [
  {
   "cell_type": "code",
   "execution_count": null,
   "id": "527bb0bc-6767-4f86-9867-c902122bf344",
   "metadata": {},
   "outputs": [],
   "source": [
    "# USED IN GOOGLE COLLAB TO ADD MORE TARGET DATA"
   ]
  },
  {
   "cell_type": "code",
   "execution_count": 11,
   "id": "6dd86cc3-fead-4892-881d-d763037a12ec",
   "metadata": {},
   "outputs": [],
   "source": [
    "import librosa\n",
    "import pyrubberband as pyrb\n",
    "import soundfile as sf\n",
    "import os\n",
    "def shift_pitch(audio_file, semitones, output_dir):\n",
    "    # Load the input audio file\n",
    "    y, sr = librosa.load(audio_file)\n",
    "\n",
    "    # Calculate the pitch shift factor for the given number of semitones\n",
    "    pitch_shift_factor = 2 ** (semitones / 12)\n",
    "\n",
    "    # Apply pitch shift and time stretch using pyrubberband\n",
    "    y_shifted_stretched = pyrb.time_stretch(pyrb.pitch_shift(y, sr, semitones), sr, 1.0 / pitch_shift_factor)\n",
    "\n",
    "    # Construct the output file name and path\n",
    "    file_name = os.path.basename(audio_file)\n",
    "    output_file = os.path.join(output_dir, f\"{file_name[:-4]}_shifted_{semitones}st.wav\")\n",
    "\n",
    "    # Save the shifted and stretched audio to a new file\n",
    "    sf.write(output_file, y_shifted_stretched, sr)"
   ]
  },
  {
   "cell_type": "code",
   "execution_count": null,
   "id": "b14948c8-0bf2-4191-a831-50374c144deb",
   "metadata": {},
   "outputs": [],
   "source": [
    "shift_pitch('/Users/sheilalong/Desktop/p_test/lemaster_tech.wav', 2, '/Users/sheilalong/Desktop/p_test/pitch_shift')"
   ]
  },
  {
   "cell_type": "code",
   "execution_count": 13,
   "id": "f05b1492-ba09-4d99-a2f4-1d8a77bed05f",
   "metadata": {},
   "outputs": [],
   "source": [
    "input_dir = '/Users/sheilalong/Desktop/p_test/data/21'\n",
    "output_dir = '/Users/sheilalong/Desktop/p_test/pitch_shift'\n",
    "semitones = 2\n",
    "\n",
    "for file in os.listdir(input_dir):\n",
    "    if file.endswith('.wav'):\n",
    "        input_file = os.path.join(input_dir, file)\n",
    "        shift_pitch(input_file, semitones, output_dir)"
   ]
  },
  {
   "cell_type": "code",
   "execution_count": null,
   "id": "c7956c6c-82c3-48dd-ae31-33c7a17c70a7",
   "metadata": {},
   "outputs": [],
   "source": []
  }
 ],
 "metadata": {
  "kernelspec": {
   "display_name": "Python 3 (ipykernel)",
   "language": "python",
   "name": "python3"
  },
  "language_info": {
   "codemirror_mode": {
    "name": "ipython",
    "version": 3
   },
   "file_extension": ".py",
   "mimetype": "text/x-python",
   "name": "python",
   "nbconvert_exporter": "python",
   "pygments_lexer": "ipython3",
   "version": "3.9.12"
  }
 },
 "nbformat": 4,
 "nbformat_minor": 5
}
